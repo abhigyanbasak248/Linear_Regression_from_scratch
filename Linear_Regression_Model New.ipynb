{
 "cells": [
  {
   "cell_type": "code",
   "execution_count": 25,
   "id": "31a984da",
   "metadata": {},
   "outputs": [],
   "source": [
    "#importing necessary libraries\n",
    "import pandas as pd\n",
    "import numpy as np\n",
    "import matplotlib.pyplot as plt"
   ]
  },
  {
   "cell_type": "code",
   "execution_count": 26,
   "id": "7485544d",
   "metadata": {},
   "outputs": [
    {
     "data": {
      "text/html": [
       "<div>\n",
       "<style scoped>\n",
       "    .dataframe tbody tr th:only-of-type {\n",
       "        vertical-align: middle;\n",
       "    }\n",
       "\n",
       "    .dataframe tbody tr th {\n",
       "        vertical-align: top;\n",
       "    }\n",
       "\n",
       "    .dataframe thead th {\n",
       "        text-align: right;\n",
       "    }\n",
       "</style>\n",
       "<table border=\"1\" class=\"dataframe\">\n",
       "  <thead>\n",
       "    <tr style=\"text-align: right;\">\n",
       "      <th></th>\n",
       "      <th>AGE</th>\n",
       "      <th>FEMALE</th>\n",
       "      <th>LOS</th>\n",
       "      <th>RACE</th>\n",
       "      <th>APRDRG</th>\n",
       "      <th>TOTCHG</th>\n",
       "    </tr>\n",
       "  </thead>\n",
       "  <tbody>\n",
       "    <tr>\n",
       "      <th>0</th>\n",
       "      <td>17</td>\n",
       "      <td>1</td>\n",
       "      <td>2</td>\n",
       "      <td>1.0</td>\n",
       "      <td>560</td>\n",
       "      <td>2660</td>\n",
       "    </tr>\n",
       "    <tr>\n",
       "      <th>1</th>\n",
       "      <td>17</td>\n",
       "      <td>0</td>\n",
       "      <td>2</td>\n",
       "      <td>1.0</td>\n",
       "      <td>753</td>\n",
       "      <td>1689</td>\n",
       "    </tr>\n",
       "    <tr>\n",
       "      <th>2</th>\n",
       "      <td>17</td>\n",
       "      <td>1</td>\n",
       "      <td>7</td>\n",
       "      <td>1.0</td>\n",
       "      <td>930</td>\n",
       "      <td>20060</td>\n",
       "    </tr>\n",
       "    <tr>\n",
       "      <th>3</th>\n",
       "      <td>17</td>\n",
       "      <td>1</td>\n",
       "      <td>1</td>\n",
       "      <td>1.0</td>\n",
       "      <td>758</td>\n",
       "      <td>736</td>\n",
       "    </tr>\n",
       "    <tr>\n",
       "      <th>4</th>\n",
       "      <td>17</td>\n",
       "      <td>1</td>\n",
       "      <td>1</td>\n",
       "      <td>1.0</td>\n",
       "      <td>754</td>\n",
       "      <td>1194</td>\n",
       "    </tr>\n",
       "    <tr>\n",
       "      <th>...</th>\n",
       "      <td>...</td>\n",
       "      <td>...</td>\n",
       "      <td>...</td>\n",
       "      <td>...</td>\n",
       "      <td>...</td>\n",
       "      <td>...</td>\n",
       "    </tr>\n",
       "    <tr>\n",
       "      <th>495</th>\n",
       "      <td>0</td>\n",
       "      <td>1</td>\n",
       "      <td>6</td>\n",
       "      <td>1.0</td>\n",
       "      <td>636</td>\n",
       "      <td>5881</td>\n",
       "    </tr>\n",
       "    <tr>\n",
       "      <th>496</th>\n",
       "      <td>0</td>\n",
       "      <td>1</td>\n",
       "      <td>2</td>\n",
       "      <td>1.0</td>\n",
       "      <td>640</td>\n",
       "      <td>1171</td>\n",
       "    </tr>\n",
       "    <tr>\n",
       "      <th>497</th>\n",
       "      <td>0</td>\n",
       "      <td>1</td>\n",
       "      <td>2</td>\n",
       "      <td>1.0</td>\n",
       "      <td>640</td>\n",
       "      <td>1171</td>\n",
       "    </tr>\n",
       "    <tr>\n",
       "      <th>498</th>\n",
       "      <td>0</td>\n",
       "      <td>1</td>\n",
       "      <td>2</td>\n",
       "      <td>1.0</td>\n",
       "      <td>640</td>\n",
       "      <td>1086</td>\n",
       "    </tr>\n",
       "    <tr>\n",
       "      <th>499</th>\n",
       "      <td>0</td>\n",
       "      <td>0</td>\n",
       "      <td>4</td>\n",
       "      <td>1.0</td>\n",
       "      <td>640</td>\n",
       "      <td>4931</td>\n",
       "    </tr>\n",
       "  </tbody>\n",
       "</table>\n",
       "<p>500 rows × 6 columns</p>\n",
       "</div>"
      ],
      "text/plain": [
       "     AGE  FEMALE  LOS  RACE  APRDRG  TOTCHG\n",
       "0     17       1    2   1.0     560    2660\n",
       "1     17       0    2   1.0     753    1689\n",
       "2     17       1    7   1.0     930   20060\n",
       "3     17       1    1   1.0     758     736\n",
       "4     17       1    1   1.0     754    1194\n",
       "..   ...     ...  ...   ...     ...     ...\n",
       "495    0       1    6   1.0     636    5881\n",
       "496    0       1    2   1.0     640    1171\n",
       "497    0       1    2   1.0     640    1171\n",
       "498    0       1    2   1.0     640    1086\n",
       "499    0       0    4   1.0     640    4931\n",
       "\n",
       "[500 rows x 6 columns]"
      ]
     },
     "execution_count": 26,
     "metadata": {},
     "output_type": "execute_result"
    }
   ],
   "source": [
    "#reading the file and rearranging so that the column to predict is the last\n",
    "df1=pd.read_csv(\"/Users/asmitabasak/Downloads/linear_regression_dataset.csv\")\n",
    "df=df1[['AGE','FEMALE','LOS','RACE','APRDRG','TOTCHG']]\n",
    "m=len(df.index)\n",
    "df"
   ]
  },
  {
   "cell_type": "code",
   "execution_count": 27,
   "id": "2690442c",
   "metadata": {},
   "outputs": [
    {
     "data": {
      "text/html": [
       "<div>\n",
       "<style scoped>\n",
       "    .dataframe tbody tr th:only-of-type {\n",
       "        vertical-align: middle;\n",
       "    }\n",
       "\n",
       "    .dataframe tbody tr th {\n",
       "        vertical-align: top;\n",
       "    }\n",
       "\n",
       "    .dataframe thead th {\n",
       "        text-align: right;\n",
       "    }\n",
       "</style>\n",
       "<table border=\"1\" class=\"dataframe\">\n",
       "  <thead>\n",
       "    <tr style=\"text-align: right;\">\n",
       "      <th></th>\n",
       "      <th>AGE</th>\n",
       "      <th>FEMALE</th>\n",
       "      <th>LOS</th>\n",
       "      <th>RACE</th>\n",
       "      <th>APRDRG</th>\n",
       "      <th>TOTCHG</th>\n",
       "    </tr>\n",
       "  </thead>\n",
       "  <tbody>\n",
       "    <tr>\n",
       "      <th>0</th>\n",
       "      <td>1.714374</td>\n",
       "      <td>0.975304</td>\n",
       "      <td>-0.246173</td>\n",
       "      <td>-0.151835</td>\n",
       "      <td>-0.316068</td>\n",
       "      <td>-0.029418</td>\n",
       "    </tr>\n",
       "    <tr>\n",
       "      <th>1</th>\n",
       "      <td>1.714374</td>\n",
       "      <td>-1.023270</td>\n",
       "      <td>-0.246173</td>\n",
       "      <td>-0.151835</td>\n",
       "      <td>0.766280</td>\n",
       "      <td>-0.279134</td>\n",
       "    </tr>\n",
       "    <tr>\n",
       "      <th>2</th>\n",
       "      <td>1.714374</td>\n",
       "      <td>0.975304</td>\n",
       "      <td>1.240380</td>\n",
       "      <td>-0.151835</td>\n",
       "      <td>1.758899</td>\n",
       "      <td>4.445422</td>\n",
       "    </tr>\n",
       "    <tr>\n",
       "      <th>3</th>\n",
       "      <td>1.714374</td>\n",
       "      <td>0.975304</td>\n",
       "      <td>-0.543484</td>\n",
       "      <td>-0.151835</td>\n",
       "      <td>0.794320</td>\n",
       "      <td>-0.524222</td>\n",
       "    </tr>\n",
       "    <tr>\n",
       "      <th>4</th>\n",
       "      <td>1.714374</td>\n",
       "      <td>0.975304</td>\n",
       "      <td>-0.543484</td>\n",
       "      <td>-0.151835</td>\n",
       "      <td>0.771888</td>\n",
       "      <td>-0.406436</td>\n",
       "    </tr>\n",
       "  </tbody>\n",
       "</table>\n",
       "</div>"
      ],
      "text/plain": [
       "        AGE    FEMALE       LOS      RACE    APRDRG    TOTCHG\n",
       "0  1.714374  0.975304 -0.246173 -0.151835 -0.316068 -0.029418\n",
       "1  1.714374 -1.023270 -0.246173 -0.151835  0.766280 -0.279134\n",
       "2  1.714374  0.975304  1.240380 -0.151835  1.758899  4.445422\n",
       "3  1.714374  0.975304 -0.543484 -0.151835  0.794320 -0.524222\n",
       "4  1.714374  0.975304 -0.543484 -0.151835  0.771888 -0.406436"
      ]
     },
     "execution_count": 27,
     "metadata": {},
     "output_type": "execute_result"
    }
   ],
   "source": [
    "#mean normalization\n",
    "df=((df-df.mean())/df.std())\n",
    "df.head()"
   ]
  },
  {
   "cell_type": "code",
   "execution_count": 28,
   "id": "ada64d2b",
   "metadata": {},
   "outputs": [
    {
     "data": {
      "text/plain": [
       "array([[ 1.        ,  1.71437426,  0.97530444, -0.24617312, -0.15183465,\n",
       "        -0.31606803],\n",
       "       [ 1.        ,  1.71437426, -1.02327023, -0.24617312, -0.15183465,\n",
       "         0.7662799 ],\n",
       "       [ 1.        ,  1.71437426,  0.97530444,  1.24037955, -0.15183465,\n",
       "         1.75889949],\n",
       "       ...,\n",
       "       [ 1.        , -0.73185391,  0.97530444, -0.24617312, -0.15183465,\n",
       "         0.1325736 ],\n",
       "       [ 1.        , -0.73185391,  0.97530444, -0.24617312, -0.15183465,\n",
       "         0.1325736 ],\n",
       "       [ 1.        , -0.73185391, -1.02327023,  0.34844795, -0.15183465,\n",
       "         0.1325736 ]])"
      ]
     },
     "execution_count": 28,
     "metadata": {},
     "output_type": "execute_result"
    }
   ],
   "source": [
    "#creating the matrices for x values, y values and the theta values are initialised to zero\n",
    "X1=df.iloc[:,0:5]\n",
    "x0=np.ones((X1.shape[0],1))\n",
    "X=np.concatenate((x0,X1),axis=1)\n",
    "y=df.iloc[:,5:6]\n",
    "theta=np.zeros((1,6))\n",
    "X"
   ]
  },
  {
   "cell_type": "code",
   "execution_count": 29,
   "id": "16883815",
   "metadata": {},
   "outputs": [],
   "source": [
    "#setting the values of learning rate and number of iterations\n",
    "alpha=0.01\n",
    "iterations=1000"
   ]
  },
  {
   "cell_type": "code",
   "execution_count": 30,
   "id": "99dfec67",
   "metadata": {},
   "outputs": [],
   "source": [
    "#making a fuction to calculate value of cost function\n",
    "def cost_function(X,y,theta):\n",
    "    c=(((np.matmul(X,theta.T))-y)**2)/(2*m)\n",
    "    return np.sum(c)"
   ]
  },
  {
   "cell_type": "code",
   "execution_count": 31,
   "id": "0ee66894",
   "metadata": {},
   "outputs": [],
   "source": [
    "#making a function to do gradient descent and find out the values of parameters(theta).\n",
    "x2=np.ones((m,1))\n",
    "def gradient_descent(X,y,theta,iterations,alpha):\n",
    "    cost = np.zeros((iterations,1))\n",
    "    for i in range(iterations):\n",
    "        k=0\n",
    "        while (k<6):\n",
    "            for j in range(0,m):\n",
    "                x2[j][0]=X[j][k]\n",
    "            theta[0][k]=theta[0][k]-((alpha/m)*np.sum(x2*((np.matmul(X,theta.T)-y)),axis=0)) \n",
    "            cost[i] = cost_function(X, y, theta) \n",
    "            k=k+1\n",
    "    return theta,cost"
   ]
  },
  {
   "cell_type": "code",
   "execution_count": 32,
   "id": "fe57c020",
   "metadata": {},
   "outputs": [
    {
     "name": "stdout",
     "output_type": "stream",
     "text": [
      "[[-2.78816513e-05  2.40600344e-01 -5.02108484e-02  6.42758302e-01\n",
      "  -2.80983604e-02 -3.57225990e-01]]\n",
      "TOTCHG    0.222687\n",
      "dtype: float64\n"
     ]
    }
   ],
   "source": [
    "#the final values of the parameters and cost function\n",
    "theta_final,cost = gradient_descent(X,y,theta,iterations,alpha)\n",
    "print(theta_final)\n",
    "\n",
    "final_Cost = cost_function(X,y,theta_final)\n",
    "print(final_Cost)"
   ]
  },
  {
   "cell_type": "code",
   "execution_count": 33,
   "id": "095b6d8a",
   "metadata": {},
   "outputs": [
    {
     "data": {
      "text/plain": [
       "Text(0, 0.5, 'Cost Function')"
      ]
     },
     "execution_count": 33,
     "metadata": {},
     "output_type": "execute_result"
    },
    {
     "data": {
      "image/png": "[encoded data removed]",
      "text/plain": [
       "<Figure size 432x288 with 1 Axes>"
      ]
     },
     "metadata": {
      "needs_background": "light"
     },
     "output_type": "display_data"
    }
   ],
   "source": [
    "#plotting J(theta) against number of iterations to make sure gradient descent is working properly\n",
    "fig, ax = plt.subplots()  \n",
    "ax.plot(np.arange(iterations), cost, 'r')  \n",
    "ax.set_xlabel('Number of Iterations')  \n",
    "ax.set_ylabel('Cost Function')  \n",
    " "
   ]
  },
  {
   "cell_type": "code",
   "execution_count": null,
   "id": "2c4517cb",
   "metadata": {},
   "outputs": [],
   "source": []
  }
 ],
 "metadata": {
  "kernelspec": {
   "display_name": "Python 3",
   "language": "python",
   "name": "python3"
  },
  "language_info": {
   "codemirror_mode": {
    "name": "ipython",
    "version": 3
   },
   "file_extension": ".py",
   "mimetype": "text/x-python",
   "name": "python",
   "nbconvert_exporter": "python",
   "pygments_lexer": "ipython3",
   "version": "3.8.8"
  }
 },
 "nbformat": 4,
 "nbformat_minor": 5
}
